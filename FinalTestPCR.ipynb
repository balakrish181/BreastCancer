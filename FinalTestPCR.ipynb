{
  "cells": [
    {
      "cell_type": "code",
      "execution_count": 6,
      "metadata": {
        "id": "nIEC4gHwO0_q"
      },
      "outputs": [],
      "source": [
        "import pickle\n",
        "import pandas as pd\n",
        "import numpy as np\n",
        "import requests"
      ]
    },
    {
      "cell_type": "code",
      "execution_count": 7,
      "metadata": {},
      "outputs": [],
      "source": [
        "def load_file(github_url):\n",
        "  # Fetch the file from GitHub\n",
        "  response = requests.get(github_url)\n",
        "  if response.status_code == 200:\n",
        "      # Load the pickle file\n",
        "      obj = pickle.loads(response.content)\n",
        "      print(\"loaded\")\n",
        "      return obj\n",
        "  else:\n",
        "      print(\"Failed\", response.status_code)"
      ]
    },
    {
      "cell_type": "code",
      "execution_count": 8,
      "metadata": {},
      "outputs": [],
      "source": [
        "model_path = 'https://raw.githubusercontent.com/ArvinCorotana/ML/main/best_lr_model.pkl'\n",
        "imputer_path = 'https://raw.githubusercontent.com/ArvinCorotana/ML/main/imputer.pkl'\n",
        "scaler_path = 'https://raw.githubusercontent.com/ArvinCorotana/ML/main/minmax.pkl'\n",
        "top_features_path = 'https://raw.githubusercontent.com/ArvinCorotana/ML/main/features.pkl'"
      ]
    },
    {
      "cell_type": "code",
      "execution_count": 9,
      "metadata": {},
      "outputs": [
        {
          "name": "stderr",
          "output_type": "stream",
          "text": [
            "c:\\Users\\LLR User\\AppData\\Local\\Programs\\Python\\Python310\\lib\\site-packages\\sklearn\\base.py:348: InconsistentVersionWarning: Trying to unpickle estimator LogisticRegression from version 1.2.2 when using version 1.3.2. This might lead to breaking code or invalid results. Use at your own risk. For more info please refer to:\n",
            "https://scikit-learn.org/stable/model_persistence.html#security-maintainability-limitations\n",
            "  warnings.warn(\n",
            "c:\\Users\\LLR User\\AppData\\Local\\Programs\\Python\\Python310\\lib\\site-packages\\sklearn\\base.py:348: InconsistentVersionWarning: Trying to unpickle estimator GridSearchCV from version 1.2.2 when using version 1.3.2. This might lead to breaking code or invalid results. Use at your own risk. For more info please refer to:\n",
            "https://scikit-learn.org/stable/model_persistence.html#security-maintainability-limitations\n",
            "  warnings.warn(\n"
          ]
        },
        {
          "name": "stdout",
          "output_type": "stream",
          "text": [
            "loaded\n",
            "loaded\n",
            "loaded\n",
            "loaded\n"
          ]
        }
      ],
      "source": [
        "model = load_file(model_path)\n",
        "impute = load_file(imputer_path)\n",
        "scaler = load_file(scaler_path)\n",
        "features_list = load_file(top_features_path)"
      ]
    },
    {
      "cell_type": "code",
      "execution_count": 10,
      "metadata": {
        "id": "vJVytS0fPf71"
      },
      "outputs": [],
      "source": [
        "#upload the test file here\n",
        "url2 = 'https://raw.githubusercontent.com/ArvinCorotana/ML/main/TestDatasetExample1.xls'\n",
        "test = pd.read_excel(url2, sheet_name='Sheet1')\n",
        "\n",
        "#add your file here\n",
        "#test = \n"
      ]
    },
    {
      "cell_type": "code",
      "execution_count": null,
      "metadata": {},
      "outputs": [],
      "source": []
    },
    {
      "cell_type": "code",
      "execution_count": 11,
      "metadata": {
        "id": "N1TiSuR4Pf4O"
      },
      "outputs": [],
      "source": [
        "#data-preprocessing\n",
        "test.replace(999,np.nan,inplace=True)\n",
        "output = test[['ID']]\n",
        "test.drop('ID',axis=1,inplace=True)\n",
        "X_new = impute.transform(test)\n",
        "X_new = pd.DataFrame(X_new, columns=test.columns, index=test.index)\n",
        "X_mri = X_new.iloc[:,10:]\n",
        "X_mri_scaled =scaler.transform(X_mri)\n",
        "X_mri = pd.DataFrame(X_mri_scaled, columns=X_mri.columns)\n",
        "X_new = pd.concat((X_new.iloc[:,:10],X_mri),axis=1)\n",
        "X_test = X_new[features_list]"
      ]
    },
    {
      "cell_type": "code",
      "execution_count": 12,
      "metadata": {
        "id": "kdjHJvmsPfvT"
      },
      "outputs": [
        {
          "name": "stderr",
          "output_type": "stream",
          "text": [
            "C:\\Users\\LLR User\\AppData\\Local\\Temp\\ipykernel_3140\\4121781264.py:3: SettingWithCopyWarning: \n",
            "A value is trying to be set on a copy of a slice from a DataFrame.\n",
            "Try using .loc[row_indexer,col_indexer] = value instead\n",
            "\n",
            "See the caveats in the documentation: https://pandas.pydata.org/pandas-docs/stable/user_guide/indexing.html#returning-a-view-versus-a-copy\n",
            "  output['PCR'] = predictions\n"
          ]
        }
      ],
      "source": [
        "#model predictions and csv\n",
        "predictions = model.predict(X_test)\n",
        "output['PCR'] = predictions\n",
        "output.to_csv('Test_PCR.csv',index=False)"
      ]
    },
    {
      "cell_type": "code",
      "execution_count": 13,
      "metadata": {
        "id": "A2YHBfTFPfhw"
      },
      "outputs": [
        {
          "data": {
            "text/html": [
              "<div>\n",
              "<style scoped>\n",
              "    .dataframe tbody tr th:only-of-type {\n",
              "        vertical-align: middle;\n",
              "    }\n",
              "\n",
              "    .dataframe tbody tr th {\n",
              "        vertical-align: top;\n",
              "    }\n",
              "\n",
              "    .dataframe thead th {\n",
              "        text-align: right;\n",
              "    }\n",
              "</style>\n",
              "<table border=\"1\" class=\"dataframe\">\n",
              "  <thead>\n",
              "    <tr style=\"text-align: right;\">\n",
              "      <th></th>\n",
              "      <th>ID</th>\n",
              "      <th>PCR</th>\n",
              "    </tr>\n",
              "  </thead>\n",
              "  <tbody>\n",
              "    <tr>\n",
              "      <th>0</th>\n",
              "      <td>TRG002728</td>\n",
              "      <td>1.0</td>\n",
              "    </tr>\n",
              "    <tr>\n",
              "      <th>1</th>\n",
              "      <td>TRG002649</td>\n",
              "      <td>1.0</td>\n",
              "    </tr>\n",
              "    <tr>\n",
              "      <th>2</th>\n",
              "      <td>TRG002628</td>\n",
              "      <td>0.0</td>\n",
              "    </tr>\n",
              "  </tbody>\n",
              "</table>\n",
              "</div>"
            ],
            "text/plain": [
              "          ID  PCR\n",
              "0  TRG002728  1.0\n",
              "1  TRG002649  1.0\n",
              "2  TRG002628  0.0"
            ]
          },
          "execution_count": 13,
          "metadata": {},
          "output_type": "execute_result"
        }
      ],
      "source": [
        "output.head(5)"
      ]
    },
    {
      "cell_type": "code",
      "execution_count": null,
      "metadata": {},
      "outputs": [],
      "source": []
    }
  ],
  "metadata": {
    "colab": {
      "provenance": []
    },
    "kernelspec": {
      "display_name": "Python 3",
      "name": "python3"
    },
    "language_info": {
      "codemirror_mode": {
        "name": "ipython",
        "version": 3
      },
      "file_extension": ".py",
      "mimetype": "text/x-python",
      "name": "python",
      "nbconvert_exporter": "python",
      "pygments_lexer": "ipython3",
      "version": "3.10.0"
    }
  },
  "nbformat": 4,
  "nbformat_minor": 0
}
